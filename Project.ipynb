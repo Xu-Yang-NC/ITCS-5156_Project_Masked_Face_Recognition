{
 "cells": [
  {
   "cell_type": "markdown",
   "id": "ad5f2ba0",
   "metadata": {},
   "source": [
    "# Images Clean Up\n",
    "\n",
    "Remove all the pictures with width less then 250."
   ]
  },
  {
   "cell_type": "code",
   "execution_count": 1,
   "id": "b094e5ad",
   "metadata": {},
   "outputs": [],
   "source": [
    "import sys \n",
    "import os \n",
    "sys.path.append(os.getcwd()) \n",
    "import cv2\n",
    "import numpy as np \n",
    "from tqdm import tqdm \n",
    "import dlib"
   ]
  },
  {
   "cell_type": "code",
   "execution_count": 2,
   "id": "a51096d2",
   "metadata": {},
   "outputs": [],
   "source": [
    "def preprocess(image_path):\n",
    "\n",
    "    img = cv2.imread(image_path)\n",
    "    w, h, c = img.shape\n",
    "    if w < 250 or h < 250:\n",
    "        os.remove(image_path)\n",
    "        return 0\n",
    "    return 1\n"
   ]
  },
  {
   "cell_type": "code",
   "execution_count": 4,
   "id": "f188e11d",
   "metadata": {},
   "outputs": [
    {
     "name": "stderr",
     "output_type": "stream",
     "text": [
      "100%|██████████| 8631/8631 [3:46:36<00:00,  1.58s/it]  "
     ]
    },
    {
     "name": "stdout",
     "output_type": "stream",
     "text": [
      "kill: 1979160\n",
      "not_kill: 1162730\n",
      "all: 3141890\n"
     ]
    },
    {
     "name": "stderr",
     "output_type": "stream",
     "text": [
      "\n"
     ]
    }
   ],
   "source": [
    "data_path = 'Datasets//train'\n",
    "files_list = os.listdir(data_path)\n",
    "# Loop through all the files\n",
    "kill_img = 0\n",
    "not_kill = 0\n",
    "for man in tqdm(files_list):\n",
    "    pic_list = os.listdir(os.path.join(data_path, man))\n",
    "    for pic in pic_list:\n",
    "        img_path = os.path.join(data_path, man, pic)\n",
    "        a = preprocess(img_path)\n",
    "        if a == 0:\n",
    "            kill_img += 1\n",
    "        elif a == 1:\n",
    "            not_kill += 1\n",
    "print('kill:', kill_img)\n",
    "print('not_kill:', not_kill)\n",
    "print('all:', kill_img+not_kill)"
   ]
  },
  {
   "cell_type": "markdown",
   "id": "f6fdd625",
   "metadata": {},
   "source": [
    "# Generate Data List For Training\n",
    "Store all the data files information into a csv file"
   ]
  },
  {
   "cell_type": "code",
   "execution_count": 1,
   "id": "8b3758c5",
   "metadata": {},
   "outputs": [],
   "source": [
    "import sys\n",
    "import os\n",
    "sys.path.append(os.getcwd())\n",
    "from tqdm import tqdm\n",
    "import csv "
   ]
  },
  {
   "cell_type": "code",
   "execution_count": 2,
   "id": "3f3d4606",
   "metadata": {},
   "outputs": [
    {
     "name": "stderr",
     "output_type": "stream",
     "text": [
      "948it [00:52, 18.00it/s]  \n"
     ]
    }
   ],
   "source": [
    "# Define file path\n",
    "data_path = 'Datasets//train_face_mask'\n",
    "csv_path = 'train_face_mask.csv'\n",
    "\n",
    "# Open a csv file\n",
    "f = open(csv_path,'w',encoding='utf-8')\n",
    "csv_writer = csv.writer(f)\n",
    "# Enter column title\n",
    "csv_writer.writerow([\"id\",\"name\",\"class\"])\n",
    "\n",
    "files_list = os.listdir(data_path)\n",
    "files_list.sort()\n",
    "# Loop through the files\n",
    "for index, man in tqdm(enumerate(files_list)):\n",
    "    pic_list = os.listdir(os.path.join(data_path, man))\n",
    "    pic_list.sort()\n",
    "    for pic in pic_list:\n",
    "        picid = pic.split('.')\n",
    "        csv_writer.writerow([picid[0],man,index])\n",
    "\n",
    "f.close()"
   ]
  },
  {
   "cell_type": "code",
   "execution_count": 3,
   "id": "20be2e1b",
   "metadata": {},
   "outputs": [
    {
     "name": "stderr",
     "output_type": "stream",
     "text": [
      "948it [02:10,  7.29it/s]\n"
     ]
    }
   ],
   "source": [
    "# Define file path\n",
    "data_path = 'Datasets//train_face_notmask'\n",
    "csv_path = 'train_face_notmask.csv'\n",
    "# Open a csv file\n",
    "f = open(csv_path, 'w', encoding='utf-8', newline='')\n",
    "csv_writer = csv.writer(f)\n",
    "# Enter column title\n",
    "csv_writer.writerow([\"id\",\"name\",\"class\"])\n",
    "\n",
    "files_list = os.listdir(data_path)\n",
    "files_list.sort()\n",
    "# Loop through the files\n",
    "for index, man in tqdm(enumerate(files_list)):\n",
    "    pic_list = os.listdir(os.path.join(data_path, man))\n",
    "    pic_list.sort()\n",
    "    for pic in pic_list:\n",
    "        picid = pic.split('.')\n",
    "        csv_writer.writerow([picid[0],man,index])\n",
    "\n",
    "f.close()"
   ]
  },
  {
   "cell_type": "markdown",
   "id": "636be0ed",
   "metadata": {},
   "source": [
    "# Cut Images/ Alignment/ Mask Generation\n",
    "This process is based on the 68 face landmarks model in the OpenCV library"
   ]
  },
  {
   "cell_type": "code",
   "execution_count": 3,
   "id": "a5ad5db9",
   "metadata": {},
   "outputs": [],
   "source": [
    "import sys\n",
    "import copy\n",
    "import os \n",
    "sys.path.append(os.getcwd()) \n",
    "from tqdm import tqdm \n",
    "import numpy as np \n",
    "import dlib \n",
    "import cv2\n",
    "import json\n",
    "import argparse"
   ]
  },
  {
   "cell_type": "code",
   "execution_count": 4,
   "id": "a43409ef",
   "metadata": {},
   "outputs": [
    {
     "name": "stdout",
     "output_type": "stream",
     "text": [
      "dlib.DLIB_USE_CUDA: False\n",
      "dlib.cuda.get_num_devices(): 1\n"
     ]
    }
   ],
   "source": [
    "parser = argparse.ArgumentParser(description='manual to this script')\n",
    "parser.add_argument('-s1', '--segment1',type=int, default = 0)\n",
    "parser.add_argument('-s2', '--segment2', type=int, default=10)\n",
    "parser.add_argument('-sa', '--segmentall', type=int, default=10)\n",
    "args, unknown = parser.parse_known_args()\n",
    "if (args.segmentall<args.segment2) or (args.segment1>=args.segment2) or (args.segmentall<args.segment1):\n",
    "    print('Segment setting is wrong！')\n",
    "    sys.exit(-1)\n",
    "\n",
    "os.environ[\"CUDA_VISIBLE_DEVICES\"] = \"3\"\n",
    "\n",
    "class MyEncoder(json.JSONEncoder):\n",
    "    def default(self, obj):\n",
    "        if isinstance(obj, np.integer):\n",
    "            return int(obj)\n",
    "        elif isinstance(obj, np.floating):\n",
    "            return float(obj)\n",
    "        elif isinstance(obj, np.ndarray):\n",
    "            return obj.tolist()\n",
    "        else:\n",
    "            return super(MyEncoder, self).default(obj)\n",
    "\n",
    "pwd = os.path.abspath('../')\n",
    "\n",
    "print('dlib.DLIB_USE_CUDA:', dlib.DLIB_USE_CUDA)\n",
    "print('dlib.cuda.get_num_devices():', dlib.cuda.get_num_devices())"
   ]
  },
  {
   "cell_type": "code",
   "execution_count": 19,
   "id": "a1740f88",
   "metadata": {},
   "outputs": [],
   "source": [
    "def preprocess(image_path, saveimg_path, savemask_path, saveimg_path_notmask, savemask_path_notmask, \\\n",
    "               detector, predictor, img_size, masked, notmasked):\n",
    "    global jsonfile\n",
    "    image = dlib.load_rgb_image(image_path)\n",
    "    face_img, mask_img = None, None\n",
    "    # Face cut and align\n",
    "    dets = detector(image, 1)\n",
    "    name, id_ = image_path.split(os.sep)[-2:]\n",
    "    id_ = id_.split('.')[0]\n",
    "    xmin = None\n",
    "    xmax = None\n",
    "    ymin = None\n",
    "    ymax = None\n",
    "    if len(dets) == 1:\n",
    "        faces = dlib.full_object_detections()\n",
    "        faces.append(predictor(image, dets[0]))\n",
    "        images = dlib.get_face_chips(image, faces, size=img_size)\n",
    "\n",
    "        image = np.array(images[0]).astype(np.uint8)\n",
    "        face_img = cv2.cvtColor(image, cv2.COLOR_RGB2BGR)\n",
    "        origin_face_img = copy.deepcopy(face_img)\n",
    "        # Generate mask\n",
    "        dets = detector(image, 1)\n",
    "        if len(dets) == 1:\n",
    "            point68 = predictor(image, dets[0])\n",
    "            landmarks = list()\n",
    "            INDEX = [0,2,14,16,17,18,19,24,25,26]\n",
    "            eyebrow_list = [19, 24]\n",
    "            eyes_list = [36, 45]\n",
    "            eyebrow = 0\n",
    "            eyes = 0\n",
    "\n",
    "            for eb, ey in zip(eyebrow_list, eyes_list):\n",
    "                eyebrow += point68.part(eb).y\n",
    "                eyes += point68.part(ey).y\n",
    "            add_pixel = int(eyes/2 - eyebrow/2)\n",
    "\n",
    "            for idx in INDEX:\n",
    "                x = point68.part(idx).x\n",
    "                if idx in eyebrow_list:\n",
    "                    y = (point68.part(idx).y - 2*add_pixel) if (point68.part(idx).y - 2*add_pixel) > 0 else 0\n",
    "                else:\n",
    "                    y = point68.part(idx).y\n",
    "                landmarks.append((x, y))\n",
    "        \n",
    "            belows = []\n",
    "            for i in range(2, 15, 1):\n",
    "                belows.append([point68.part(i).x, point68.part(i).y])\n",
    "            belows = np.array(belows)\n",
    "            colors = [(200, 183, 144), (163, 150, 134), (172, 170, 169), \\\n",
    "                      (167, 168, 166), (173, 171, 170), (161, 161, 160), \\\n",
    "                      (170, 162, 162)]\n",
    "            cl = np.random.choice(len(colors), 1)[0]\n",
    "            cv2.fillConvexPoly(face_img, belows, colors[cl])\n",
    "\n",
    "            landmarks = np.array(landmarks)\n",
    "            hull = cv2.convexHull(landmarks)\n",
    "            mask = np.zeros(origin_face_img.shape, dtype=np.uint8)\n",
    "            mask_img = cv2.fillPoly(mask, [hull], [255, 255, 255])\n",
    "\n",
    "            lm = np.array(landmarks)\n",
    "            h, w, c = face_img.shape\n",
    "            xmin = int(max(0, np.min(lm[:, 0])))\n",
    "            xmax = int(min(np.max(lm[:, 0]), w))\n",
    "\n",
    "            ymax = int(min(np.max(lm[:, 1]), h))\n",
    "    # if np.max(face_img) is not None and np.max(mask_img) is not None:\n",
    "    if np.max(face_img) is not None and xmin is not None:\n",
    "        if notmasked:\n",
    "            cv2.imwrite(savemask_path_notmask, mask_img)\n",
    "        if masked:\n",
    "            with open(savemask_path, 'w') as obj:\n",
    "                obj.write(str(xmin) + ',0,'+str(xmax)+','+str(ymax))\n",
    "                obj.write('\\n')\n",
    "        if masked:\n",
    "            cv2.imwrite(saveimg_path, face_img)\n",
    "        if notmasked:\n",
    "            cv2.imwrite(saveimg_path_notmask, origin_face_img)\n",
    "  "
   ]
  },
  {
   "cell_type": "code",
   "execution_count": 22,
   "id": "86778725",
   "metadata": {},
   "outputs": [
    {
     "name": "stderr",
     "output_type": "stream",
     "text": [
      "100%|██████████| 8631/8631 [40:04:36<00:00, 16.72s/it]   \n"
     ]
    }
   ],
   "source": [
    "detector = dlib.get_frontal_face_detector()\n",
    "predictor = dlib.shape_predictor('shape_predictor_68_face_landmarks.dat')\n",
    "img_size = 256\n",
    "\n",
    "data_path = os.path.join(pwd, f'data{os.sep}Datasets{os.sep}train')\n",
    "face_path_mask = os.path.join(pwd, f'data{os.sep}Datasets{os.sep}train_face_mask')\n",
    "face_path_notmask = os.path.join(pwd, f'data{os.sep}Datasets{os.sep}train_face_notmask')\n",
    "mask_path_mask = os.path.join(pwd, f'data{os.sep}Datasets{os.sep}train_mask_mask')\n",
    "mask_path_notmask = os.path.join(pwd, f'data{os.sep}Datasets{os.sep}train_mask_notmask')\n",
    "if not os.path.exists(face_path_mask):\n",
    "    os.mkdir(face_path_mask)\n",
    "if not os.path.exists(mask_path_mask):\n",
    "    os.mkdir(mask_path_mask)\n",
    "if not os.path.exists(face_path_notmask):\n",
    "    os.mkdir(face_path_notmask)\n",
    "if not os.path.exists(mask_path_notmask):\n",
    "    os.mkdir(mask_path_notmask)\n",
    "\n",
    "files_list = os.listdir(data_path)\n",
    "length = len(files_list)\n",
    "files_list = files_list[(length*args.segment1//args.segmentall):(length*args.segment2//args.segmentall)]\n",
    "\n",
    "def read_json(jsonfile):\n",
    "    with open(jsonfile, 'r', encoding = 'utf-8') as f:\n",
    "        file = json.load(f)\n",
    "    return file\n",
    "\n",
    "#Whether to generate masked pictures with related mask\n",
    "masked = True\n",
    "\n",
    "#Whether to generate not masked pictures with related mask\n",
    "notmasked = True\n",
    "\n",
    "for man in tqdm(files_list):\n",
    "    pic_list = os.listdir(os.path.join(data_path, man))\n",
    "    if masked:\n",
    "        if not os.path.exists(os.path.join(mask_path_mask, man)):\n",
    "            os.mkdir(os.path.join(mask_path_mask, man))\n",
    "        if not os.path.exists(os.path.join(face_path_mask, man)):\n",
    "            os.mkdir(os.path.join(face_path_mask, man))\n",
    "    if notmasked:\n",
    "        if not os.path.exists(os.path.join(mask_path_notmask, man)):\n",
    "            os.mkdir(os.path.join(mask_path_notmask, man))\n",
    "        if not os.path.exists(os.path.join(face_path_notmask, man)):\n",
    "            os.mkdir(os.path.join(face_path_notmask, man))\n",
    "\n",
    "    for pic in pic_list:\n",
    "        img_path = os.path.join(data_path, man, pic)\n",
    "        save_txt_path_mask = os.path.join(mask_path_mask, man, pic.replace('.jpg', '.txt').replace('.png', '.txt'))\n",
    "        save_mask_path_notmask = os.path.join(mask_path_notmask, man, pic)\n",
    "        save_face_path_mask = os.path.join(face_path_mask, man, pic)\n",
    "        save_face_path_notmask = os.path.join(face_path_notmask, man, pic)\n",
    "        preprocess(img_path, save_face_path_mask, save_txt_path_mask, save_face_path_notmask, \\\n",
    "                   save_mask_path_notmask, detector, predictor, img_size,masked, notmasked)\n",
    "\n"
   ]
  },
  {
   "cell_type": "code",
   "execution_count": null,
   "id": "90a1840f",
   "metadata": {},
   "outputs": [],
   "source": []
  },
  {
   "cell_type": "markdown",
   "id": "ba6c4629",
   "metadata": {},
   "source": [
    "# Training"
   ]
  },
  {
   "cell_type": "code",
   "execution_count": 1,
   "id": "2257a2aa",
   "metadata": {},
   "outputs": [
    {
     "data": {
      "text/plain": [
       "True"
      ]
     },
     "execution_count": 1,
     "metadata": {},
     "output_type": "execute_result"
    }
   ],
   "source": [
    "import torch\n",
    "torch.cuda.is_available()"
   ]
  },
  {
   "cell_type": "code",
   "execution_count": 2,
   "id": "9139c148",
   "metadata": {},
   "outputs": [
    {
     "name": "stderr",
     "output_type": "stream",
     "text": [
      "C:\\Users\\jtyan\\AppData\\Roaming\\Python\\Python39\\site-packages\\torchvision\\io\\image.py:11: UserWarning: Failed to load image Python extension: \n",
      "  warn(f\"Failed to load image Python extension: {e}\")\n"
     ]
    },
    {
     "name": "stdout",
     "output_type": "stream",
     "text": [
      "\n",
      "load 12500 triplets...\n",
      "12500 triplets loaded!\n",
      "\n",
      "load lfw_paths...\n",
      "lfw_paths loaded!\n",
      "\n",
      "load lfw_paths...\n",
      "lfw_paths loaded!\n",
      "\n",
      "load 12500 triplets...\n",
      "12500 triplets loaded!\n"
     ]
    }
   ],
   "source": [
    "import sys\n",
    "import os\n",
    "\n",
    "os.environ[\"CUDA_VISIBLE_DEVICES\"] = \"1\"\n",
    "\n",
    "sys.path.append(os.getcwd())\n",
    "\n",
    "from torch.nn.modules.distance import PairwiseDistance\n",
    "import torch.nn as nn\n",
    "from tqdm import tqdm\n",
    "import numpy as np\n",
    "import time\n",
    "\n",
    "from Data_loader.Data_loader_facenet_mask import test_dataloader,V9_train_dataloader\n",
    "from Data_loader.Data_loader_facenet_mask import LFWestMask_dataloader\n",
    "from Losses.Triplet_loss import TripletLoss\n",
    "from validate_on_LFW import evaluate_lfw\n",
    "from Data_loader.Data_loader_train_notmask import TrainDataset\n",
    "\n",
    "from config_mask import config\n",
    "from Models.CBAM_Face_attention_Resnet_notmaskV3 import resnet18_cbam, resnet50_cbam, resnet101_cbam, resnet34_cbam, \\\n",
    "    resnet152_cbam\n"
   ]
  },
  {
   "cell_type": "code",
   "execution_count": 3,
   "id": "a1598e9a",
   "metadata": {},
   "outputs": [
    {
     "name": "stdout",
     "output_type": "stream",
     "text": [
      "True\n",
      "Using 34 model architecture.\n",
      "loaded D:\\UNCC\\22_Spring\\ITCS 5156 Applied Machine Learning\\Slides\\Project\\data\\Model_training_checkpoints\\model_34_triplet_epoch_28_rocNotMasked0.789_rocMasked0.663notmaskV9.pt\n",
      "Using single-gpu training.\n"
     ]
    }
   ],
   "source": [
    "pwd = os.path.abspath('./')\n",
    "print(torch.cuda.is_available())\n",
    "print(\"Using {} model architecture.\".format(config['model']))\n",
    "start_epoch = 0\n",
    "\n",
    "# Model 34 is picked for this training\n",
    "if config['model'] == 18:\n",
    "    model = resnet18_cbam(pretrained=True, showlayer= False,num_classes=128)\n",
    "elif config['model'] == 34:\n",
    "    model = resnet34_cbam(pretrained=True, showlayer= False, num_classes=128)\n",
    "elif config['model'] == 50:\n",
    "    model = resnet50_cbam(pretrained=True, showlayer= False, num_classes=128)\n",
    "elif config['model'] == 101:\n",
    "    model = resnet101_cbam(pretrained=True, showlayer= False, num_classes=128)\n",
    "elif config['model'] == 152:\n",
    "    model = resnet152_cbam(pretrained=True, showlayer= False, num_classes=128)\n",
    "\n",
    "model_path = os.path.join(pwd, 'Model_training_checkpoints')\n",
    "x = [int(i.split('_')[4]) for i in os.listdir(model_path) if 'V9' in i]\n",
    "x.sort()\n",
    "for i in os.listdir(model_path):\n",
    "    if (len(x)!=0) and ('epoch_'+str(x[-1]) in i) and ('V9' in i):\n",
    "        model_pathi = os.path.join(model_path, i)\n",
    "        break\n",
    "\n",
    "if os.path.exists(model_pathi) and ('V9' in model_pathi):\n",
    "    model_state = torch.load(model_pathi)\n",
    "    model.load_state_dict(model_state['model_state_dict'])\n",
    "    start_epoch = model_state['epoch']\n",
    "    print('loaded %s' % model_pathi)\n",
    "else:\n",
    "    print('Training dataset is not exist！')\n",
    "\n",
    "    \n",
    "\n",
    "flag_train_gpu = torch.cuda.is_available()\n",
    "flag_train_multi_gpu = False\n",
    "if flag_train_gpu and torch.cuda.device_count() > 1:\n",
    "    model = nn.DataParallel(model)\n",
    "    model.cuda()\n",
    "    flag_train_multi_gpu = True\n",
    "    print('Using multi-gpu training.')\n",
    "elif flag_train_gpu and torch.cuda.device_count() == 1:\n",
    "    model.cuda()\n",
    "    print('Using single-gpu training.')\n",
    "\n",
    "def adjust_learning_rate(optimizer, epoch):\n",
    "    if epoch<19:\n",
    "        lr =  0.125\n",
    "    elif (epoch>=19) and (epoch<60):\n",
    "        lr = 0.0625\n",
    "    elif (epoch >= 60) and (epoch < 90):\n",
    "        lr = 0.0155\n",
    "    elif (epoch >= 90) and (epoch < 120):\n",
    "        lr = 0.003\n",
    "    elif (epoch>=120) and (epoch<160):\n",
    "        lr = 0.0001\n",
    "    else:\n",
    "        lr = 0.00006\n",
    "    for param_group in optimizer.param_groups:\n",
    "        param_group['lr'] = lr\n",
    "\n",
    "# Adam is picked as the optimizer\n",
    "def create_optimizer(model, new_lr):\n",
    "    # setup optimizer\n",
    "    if config['optimizer'] == \"sgd\":\n",
    "        optimizer_model = torch.optim.SGD(model.parameters(), lr = new_lr,\n",
    "                              momentum=0.9, dampening=0.9,\n",
    "                              weight_decay=0)\n",
    "    elif config['optimizer'] == \"adagrad\":\n",
    "        optimizer_model = torch.optim.Adagrad(model.parameters(), lr = new_lr,\n",
    "                                  lr_decay=1e-4,\n",
    "                                  weight_decay=0)\n",
    "\n",
    "    elif config['optimizer'] == \"rmsprop\":\n",
    "        optimizer_model = torch.optim.RMSprop(model.parameters(), lr = new_lr)\n",
    "\n",
    "    elif config['optimizer'] == \"adam\":\n",
    "        optimizer_model = torch.optim.Adam(model.parameters(), lr = new_lr,\n",
    "                               weight_decay=0)\n",
    "    return optimizer_model"
   ]
  },
  {
   "cell_type": "code",
   "execution_count": null,
   "id": "e2c4ae8e",
   "metadata": {
    "scrolled": true
   },
   "outputs": [
    {
     "name": "stdout",
     "output_type": "stream",
     "text": [
      "Countdown 3 seconds\n",
      "Countdown 2 seconds\n",
      "Countdown 1 seconds\n",
      "\n",
      "training on TrainDataset! ...\n"
     ]
    },
    {
     "name": "stderr",
     "output_type": "stream",
     "text": [
      "100%|██████████| 2500/2500 [17:20<00:00,  2.40it/s] \n"
     ]
    },
    {
     "name": "stdout",
     "output_type": "stream",
     "text": [
      "Validating on TestDataset! ...\n"
     ]
    },
    {
     "name": "stderr",
     "output_type": "stream",
     "text": [
      "100%|██████████| 1089/1089 [02:03<00:00,  8.83it/s]\n"
     ]
    },
    {
     "name": "stdout",
     "output_type": "stream",
     "text": [
      "Validating on LFWMASKTestDataset! ...\n"
     ]
    },
    {
     "name": "stderr",
     "output_type": "stream",
     "text": [
      "100%|██████████| 1089/1089 [02:54<00:00,  6.24it/s]\n"
     ]
    },
    {
     "name": "stdout",
     "output_type": "stream",
     "text": [
      "save:  True\n",
      "Epoch 29:\n",
      "            train_log:\tLOSS: 24.635\ttri_loss: 0.188\tatt_loss: 24.447\thard_sample: 3332\ttrain_time: 0.2889659543832143\n",
      "            test_log:\tAUC: 0.793\tACC: 0.720+-0.026\trecall: 0.880+-0.012\tPrecision 0.664+-0.030\t\n",
      "Epoch 29:\n",
      "                    train_log:\tLOSS: 24.635\ttri_loss: 0.188\tatt_loss: 24.447\thard_sample: 3332\ttrain_time: 0.2889659543832143\n",
      "                    MASKED_LFW_test_log:\tAUC: 0.662\tACC: 0.619+-0.022\trecall: 0.813+-0.027\tPrecision 0.582+-0.020\t\n",
      "\n",
      "training on TrainDataset! ...\n"
     ]
    },
    {
     "name": "stderr",
     "output_type": "stream",
     "text": [
      "100%|██████████| 2500/2500 [08:31<00:00,  4.88it/s]\n"
     ]
    },
    {
     "name": "stdout",
     "output_type": "stream",
     "text": [
      "Validating on TestDataset! ...\n"
     ]
    },
    {
     "name": "stderr",
     "output_type": "stream",
     "text": [
      "100%|██████████| 1089/1089 [01:43<00:00, 10.57it/s]\n"
     ]
    },
    {
     "name": "stdout",
     "output_type": "stream",
     "text": [
      "Validating on LFWMASKTestDataset! ...\n"
     ]
    },
    {
     "name": "stderr",
     "output_type": "stream",
     "text": [
      "100%|██████████| 1089/1089 [02:55<00:00,  6.20it/s]\n"
     ]
    },
    {
     "name": "stdout",
     "output_type": "stream",
     "text": [
      "save:  True\n",
      "Epoch 30:\n",
      "            train_log:\tLOSS: 25.270\ttri_loss: 0.195\tatt_loss: 25.076\thard_sample: 2966\ttrain_time: 0.14219826320807138\n",
      "            test_log:\tAUC: 0.774\tACC: 0.702+-0.027\trecall: 0.645+-0.024\tPrecision 0.722+-0.042\t\n",
      "Epoch 30:\n",
      "                    train_log:\tLOSS: 25.270\ttri_loss: 0.195\tatt_loss: 25.076\thard_sample: 2966\ttrain_time: 0.14219826320807138\n",
      "                    MASKED_LFW_test_log:\tAUC: 0.623\tACC: 0.582+-0.021\trecall: 0.365+-0.030\tPrecision 0.634+-0.039\t\n",
      "\n",
      "training on TrainDataset! ...\n"
     ]
    },
    {
     "name": "stderr",
     "output_type": "stream",
     "text": [
      "100%|██████████| 2500/2500 [08:20<00:00,  5.00it/s]\n"
     ]
    },
    {
     "name": "stdout",
     "output_type": "stream",
     "text": [
      "Validating on TestDataset! ...\n"
     ]
    },
    {
     "name": "stderr",
     "output_type": "stream",
     "text": [
      "100%|██████████| 1089/1089 [01:44<00:00, 10.40it/s]\n"
     ]
    },
    {
     "name": "stdout",
     "output_type": "stream",
     "text": [
      "Validating on LFWMASKTestDataset! ...\n"
     ]
    },
    {
     "name": "stderr",
     "output_type": "stream",
     "text": [
      "\r",
      "  0%|          | 0/1089 [00:00<?, ?it/s]"
     ]
    }
   ],
   "source": [
    "# Random seed\n",
    "seed = 0\n",
    "optimizer_model = create_optimizer(model, 0.125)\n",
    "torch.manual_seed(seed)  # Set seed for CPU\n",
    "torch.cuda.manual_seed(seed)  # Set seed for current GPU\n",
    "torch.cuda.manual_seed_all(seed)  # Set seed for all the GPU\n",
    "np.random.seed(seed)\n",
    "os.environ['PYTHONHASHSEED'] = str(seed)\n",
    "\n",
    "# epoch\n",
    "total_time_start = time.time()\n",
    "start_epoch = start_epoch\n",
    "end_epoch = start_epoch + config['epochs']\n",
    "# import l2 calculation\n",
    "l2_distance = PairwiseDistance(2).cuda()\n",
    "# For report\n",
    "best_roc_auc = -1\n",
    "best_accuracy = -1\n",
    "print('Countdown 3 seconds')\n",
    "time.sleep(1)\n",
    "print('Countdown 2 seconds')\n",
    "time.sleep(1)\n",
    "print('Countdown 1 seconds')\n",
    "time.sleep(1)\n",
    "\n",
    "# epoch loop\n",
    "for epoch in range(start_epoch, end_epoch):\n",
    "    torch.cuda.empty_cache()\n",
    "    print(\"\\ntraining on TrainDataset! ...\")\n",
    "    epoch_time_start = time.time()\n",
    "    triplet_loss_sum = 0\n",
    "    attention_loss_sum = 0\n",
    "    num_hard = 0\n",
    "\n",
    "    model.train()  # train the model\n",
    "    # step loop\n",
    "    progress_bar = enumerate(tqdm(V9_train_dataloader))\n",
    "    for batch_idx, (batch_sample) in progress_bar:\n",
    "        # for batch_idx, (batch_sample) in enumerate(train_dataloader):\n",
    "        # length = len(train_dataloader)\n",
    "        # fl=open('/home/Mask-face-recognitionV1/output.txt', 'w')\n",
    "        # for batch_idx, (batch_sample) in enumerate(train_dataloader):\n",
    "        # print(batch_idx, end=' ')\n",
    "        # fl.write(str(batch_idx)+' '+str(round((time.time()-epoch_time_start)*length/((batch_idx+1)*60), 2))+'；  ')\n",
    "        # Getting the datasets for the iteration\n",
    "        # Getting three pictures without mask\n",
    "        anc_img = batch_sample['anc_img'].cuda()\n",
    "        pos_img = batch_sample['pos_img'].cuda()\n",
    "        neg_img = batch_sample['neg_img'].cuda()\n",
    "        # Getting three pictures with mask\n",
    "        mask_anc = batch_sample['mask_anc'].cuda()\n",
    "        mask_pos = batch_sample['mask_pos'].cuda()\n",
    "        mask_neg = batch_sample['mask_neg'].cuda()\n",
    "\n",
    "        # model calculation\n",
    "        #  Feedforward- the model is trained by three pictures, embedding and loss is generated. (only two pictures are input with loss during training, and one picture is input with embedding during testing)\n",
    "        anc_embedding, anc_attention_loss = model((anc_img, mask_anc))\n",
    "        pos_embedding, pos_attention_loss = model((pos_img, mask_pos))\n",
    "        neg_embedding, neg_attention_loss = model((neg_img, mask_neg))\n",
    "        anc_embedding = torch.div(anc_embedding, torch.norm(anc_embedding)) * 50\n",
    "        pos_embedding = torch.div(pos_embedding, torch.norm(pos_embedding)) * 50\n",
    "        neg_embedding = torch.div(neg_embedding, torch.norm(neg_embedding)) * 50\n",
    "        \n",
    "        # Calculating l2 embedding\n",
    "        pos_dist = l2_distance.forward(anc_embedding, pos_embedding)\n",
    "        neg_dist = l2_distance.forward(anc_embedding, neg_embedding)\n",
    "        # Looking for difficult sample\n",
    "        all = (neg_dist - pos_dist < config['margin']).cpu().numpy().flatten()\n",
    "        hard_triplets = np.where(all == 1)\n",
    "        if len(hard_triplets[0]) == 0:\n",
    "            continue\n",
    "\n",
    "        # Select embedding of the difficult samples\n",
    "        anc_hard_embedding = anc_embedding[hard_triplets].cuda()\n",
    "        pos_hard_embedding = pos_embedding[hard_triplets].cuda()\n",
    "        neg_hard_embedding = neg_embedding[hard_triplets].cuda()\n",
    "        # Select attention loss of the difficult samples\n",
    "        hard_anc_attention_loss = anc_attention_loss[hard_triplets]\n",
    "        hard_pos_attention_loss = pos_attention_loss[hard_triplets]\n",
    "        hard_neg_attention_loss = neg_attention_loss[hard_triplets]\n",
    "\n",
    "        # loss calculation\n",
    "        triplet_loss = TripletLoss(margin=config['margin']).forward(\n",
    "            anchor=anc_hard_embedding,\n",
    "            positive=pos_hard_embedding,\n",
    "            negative=neg_hard_embedding\n",
    "        ).cuda()\n",
    "\n",
    "        # Calculating the mean for attention loss\n",
    "        hard_attention_loss = torch.cat([hard_anc_attention_loss, hard_pos_attention_loss, hard_neg_attention_loss])\n",
    "        # hard_attention_loss = torch.cat([anc_attention_loss, pos_attention_loss, neg_attention_loss])\n",
    "        hard_attention_loss = torch.mean(hard_attention_loss).cuda()\n",
    "        hard_attention_loss = hard_attention_loss.type(torch.FloatTensor)\n",
    "        \n",
    "        LOSS = triplet_loss + hard_attention_loss\n",
    "\n",
    "        # Back propagation process\n",
    "        optimizer_model.zero_grad()\n",
    "        LOSS.backward()\n",
    "        optimizer_model.step()\n",
    "\n",
    "        # update the optimizer learning rate\n",
    "        adjust_learning_rate(optimizer_model, epoch)\n",
    "\n",
    "        # Record log info\n",
    "        # Record the # of difficult sample\n",
    "        num_hard += len(anc_hard_embedding)\n",
    "        # Calculate the total loss in this epoch\n",
    "        triplet_loss_sum += triplet_loss.item()\n",
    "        attention_loss_sum += hard_attention_loss.item()\n",
    "       \n",
    "\n",
    "    # Calculate the average loss in this epoch\n",
    "    avg_triplet_loss = 0 if (num_hard == 0) else triplet_loss_sum / num_hard\n",
    "    avg_attention_loss = 0 if (num_hard == 0) else attention_loss_sum / num_hard\n",
    "    avg_loss = avg_triplet_loss + avg_attention_loss\n",
    "    epoch_time_end = time.time()\n",
    "\n",
    "    # Calculate the testing accuracy\n",
    "    print(\"Validating on TestDataset! ...\")\n",
    "    model.eval()  # Model evaluation\n",
    "    with torch.no_grad():\n",
    "        distances, labels = [], []\n",
    "\n",
    "        progress_bar = enumerate(tqdm(test_dataloader))\n",
    "        for batch_index, (data_a, data_b, label) in progress_bar:\n",
    "            # data_a, data_b, label are in one matrix\n",
    "            data_a = data_a.cuda()\n",
    "            data_b = data_b.cuda()\n",
    "            label = label.cuda()\n",
    "            output_a, output_b = model(data_a), model(data_b)\n",
    "            output_a = torch.div(output_a, torch.norm(output_a))\n",
    "            output_b = torch.div(output_b, torch.norm(output_b))\n",
    "            distance = l2_distance.forward(output_a, output_b)\n",
    "            # Matrices in a list\n",
    "            labels.append(label.cpu().detach().numpy())\n",
    "            distances.append(distance.cpu().detach().numpy())\n",
    "        labels = np.array([sublabel for label in labels for sublabel in label])\n",
    "        distances = np.array([subdist for distance in distances for subdist in distance])\n",
    "        true_positive_rate, false_positive_rate, precision, recall, accuracy, roc_auc, best_distances, \\\n",
    "        tar, far = evaluate_lfw(\n",
    "            distances=distances,\n",
    "            labels=labels,\n",
    "            epoch = 'epoch_'+str(epoch),\n",
    "            tag = 'NOTMaskedLFW_auc',\n",
    "            version = 'V9',\n",
    "            pltshow=True\n",
    "        )\n",
    "    print(\"Validating on LFWMASKTestDataset! ...\")\n",
    "    with torch.no_grad():  \n",
    "        distances, labels = [], []\n",
    "        progress_bar = enumerate(tqdm(LFWestMask_dataloader))\n",
    "        for batch_index, (data_a, data_b, label) in progress_bar:\n",
    "            # data_a, data_b, label are in one matrix\n",
    "            data_a = data_a.cuda()\n",
    "            data_b = data_b.cuda()\n",
    "            label = label.cuda()\n",
    "            output_a, output_b = model(data_a), model(data_b)\n",
    "            output_a = torch.div(output_a, torch.norm(output_a))\n",
    "            output_b = torch.div(output_b, torch.norm(output_b))\n",
    "            distance = l2_distance.forward(output_a, output_b)\n",
    "            # Matrices in a list\n",
    "            labels.append(label.cpu().detach().numpy())\n",
    "            distances.append(distance.cpu().detach().numpy())\n",
    "        \n",
    "        labels = np.array([sublabel for label in labels for sublabel in label])\n",
    "        distances = np.array([subdist for distance in distances for subdist in distance])\n",
    "        true_positive_rate_mask, false_positive_rate_mask, precision_mask, recall_mask, \\\n",
    "        accuracy_mask, roc_auc_mask, best_distances_mask, \\\n",
    "        tar_mask, far_mask = evaluate_lfw(\n",
    "            distances=distances,\n",
    "            labels=labels,\n",
    "            epoch = 'epoch_'+str(epoch),\n",
    "            tag = 'MaskedLFW_auc',\n",
    "            version = 'V9',\n",
    "            pltshow=True\n",
    "        )\n",
    "\n",
    "    # Print and save report\n",
    "    # Read the best roc and acc value from previous file and update them\n",
    "    if os.path.exists('logs/lfw_{}_log_tripletnotmaskV9.txt'.format(config['model'])):\n",
    "        with open('logs/lfw_{}_log_tripletnotmaskV9.txt'.format(config['model']), 'r') as f:\n",
    "            lines = f.readlines()\n",
    "            my_line = lines[-3]\n",
    "            my_line = my_line.split('\\t')\n",
    "            best_roc_auc = float(my_line[3].split(':')[1])\n",
    "            best_accuracy = float(my_line[5].split(':')[1])\n",
    "\n",
    "    # Save when the last epoch and auc is the higest\n",
    "    save = True\n",
    "    if config['save_last_model'] and epoch == end_epoch - 1:\n",
    "        save = True\n",
    "    if roc_auc > best_roc_auc:\n",
    "        best_roc_auc = roc_auc\n",
    "        save = True\n",
    "    if np.mean(accuracy) > best_accuracy:\n",
    "        best_accuracy = np.mean(accuracy)\n",
    "    if epoch % 3 == 0:\n",
    "        save = True\n",
    "    print('save: ', save)\n",
    "\n",
    "    # Print the report details\n",
    "    print('Epoch {}:\\n \\\n",
    "           train_log:\\tLOSS: {:.3f}\\ttri_loss: {:.3f}\\tatt_loss: {:.3f}\\thard_sample: {}\\ttrain_time: {}\\n \\\n",
    "           test_log:\\tAUC: {:.3f}\\tACC: {:.3f}+-{:.3f}\\trecall: {:.3f}+-{:.3f}\\tPrecision {:.3f}+-{:.3f}\\t'.format(\n",
    "        epoch + 1,\n",
    "        avg_loss,\n",
    "        avg_triplet_loss,\n",
    "        avg_attention_loss,\n",
    "        num_hard,\n",
    "        (epoch_time_end - epoch_time_start) / 3600,\n",
    "        roc_auc,\n",
    "        np.mean(accuracy),\n",
    "        np.std(accuracy),\n",
    "        np.mean(recall),\n",
    "        np.std(recall),\n",
    "        np.mean(precision),\n",
    "        np.std(precision),\n",
    "    )\n",
    "    )\n",
    "    # Print the report for masked data\n",
    "    print('Epoch {}:\\n \\\n",
    "                   train_log:\\tLOSS: {:.3f}\\ttri_loss: {:.3f}\\tatt_loss: {:.3f}\\thard_sample: {}\\ttrain_time: {}\\n \\\n",
    "                   MASKED_LFW_test_log:\\tAUC: {:.3f}\\tACC: {:.3f}+-{:.3f}\\trecall: {:.3f}+-{:.3f}\\tPrecision {:.3f}+-{:.3f}\\t'.format(\n",
    "        epoch + 1,\n",
    "        avg_loss,\n",
    "        avg_triplet_loss,\n",
    "        avg_attention_loss,\n",
    "        num_hard,\n",
    "        (epoch_time_end - epoch_time_start) / 3600,\n",
    "        roc_auc_mask,\n",
    "        np.mean(accuracy_mask),\n",
    "        np.std(accuracy_mask),\n",
    "        np.mean(recall_mask),\n",
    "        np.std(recall_mask),\n",
    "        np.mean(precision_mask),\n",
    "        np.std(precision_mask),\n",
    "    )\n",
    "    )\n",
    "\n",
    "    # Save the report as a file\n",
    "    with open('logs/lfw_{}_log_tripletnotmaskV9.txt'.format(config['model']), 'a') as f:\n",
    "        val_list = [\n",
    "            'epoch: ' + str(epoch + 1) + '\\t',\n",
    "            'train:\\t',\n",
    "            'LOSS: ' + str('%.3f' % avg_loss) + '\\t',\n",
    "            'tri_loss: ' + str('%.3f' % avg_triplet_loss) + '\\t',\n",
    "            'att_loss: ' + str('%.3f' % avg_attention_loss) + '\\t',\n",
    "            'hard_sample: ' + str(num_hard) + '\\t',\n",
    "            'train_time: ' + str('%.3f' % ((epoch_time_end - epoch_time_start) / 3600))\n",
    "        ]\n",
    "        log = ''.join(str(value) for value in val_list)\n",
    "        f.writelines(log + '\\n')\n",
    "        val_list = [\n",
    "            'epoch: ' + str(epoch + 1) + '\\t',\n",
    "            'test:\\t',\n",
    "            'auc_masked: ' + str('%.3f' % roc_auc_mask) + '\\t',\n",
    "            'best_auc_MD: ' + str('%.3f' % best_roc_auc) + '\\t',\n",
    "            'acc_MD: ' + str('%.3f' % np.mean(accuracy_mask)) + '+-' + str('%.3f' % np.std(accuracy_mask)) + '\\t',\n",
    "            'best_acc_MD: ' + str('%.3f' % best_accuracy) + '\\t',\n",
    "            'recall_MD: ' + str('%.3f' % np.mean(recall_mask)) + '+-' + str('%.3f' % np.std(recall_mask)) + '\\t',\n",
    "            'precision_MD: ' + str('%.3f' % np.mean(precision_mask)) + '+-' + str(\n",
    "                '%.3f' % np.std(precision_mask)) + '\\t',\n",
    "            'best_distances_MD: ' + str('%.3f' % np.mean(best_distances_mask)) + '+-' + str(\n",
    "                '%.3f' % np.std(best_distances_mask)) + '\\t',\n",
    "            'tar_m: ' + str('%.3f' % np.mean(tar_mask)) + '\\t',\n",
    "        ]\n",
    "        log = ''.join(str(value) for value in val_list)\n",
    "        f.writelines(log + '\\n')\n",
    "        val_list = [\n",
    "            'epoch: ' + str(epoch + 1) + '\\t',\n",
    "            'test:\\t',\n",
    "            'auc: ' + str('%.3f' % roc_auc) + '\\t',\n",
    "            'best_auc: ' + str('%.3f' % best_roc_auc) + '\\t',\n",
    "            'acc: ' + str('%.3f' % np.mean(accuracy)) + '+-' + str('%.3f' % np.std(accuracy)) + '\\t',\n",
    "            'best_acc: ' + str('%.3f' % best_accuracy) + '\\t',\n",
    "            'recall: ' + str('%.3f' % np.mean(recall)) + '+-' + str('%.3f' % np.std(recall)) + '\\t',\n",
    "            'precision: ' + str('%.3f' % np.mean(precision)) + '+-' + str('%.3f' % np.std(precision)) + '\\t',\n",
    "            'best_distances: ' + str('%.3f' % np.mean(best_distances)) + '+-' + str(\n",
    "                '%.3f' % np.std(best_distances)) + '\\t',\n",
    "            'tar_m: ' + str('%.3f' % np.mean(tar)) + '\\t',\n",
    "        ]\n",
    "        log = ''.join(str(value) for value in val_list)\n",
    "        f.writelines(log + '\\n')\n",
    "        val_list = [\n",
    "            'epoch: ' + str(epoch + 1) + '\\t',\n",
    "            'config:\\t',\n",
    "            'LR: ' + str(config['Learning_rate']) + '\\t',\n",
    "            'optimizer: ' + str(config['optimizer']) + '\\t',\n",
    "            'embedding_dim: ' + str(config['embedding_dim']) + '\\t',\n",
    "            'pretrained: ' + str(config['pretrained']) + '\\t',\n",
    "            'image_size: ' + str(config['image_size'])\n",
    "        ]\n",
    "        log = ''.join(str(value) for value in val_list)\n",
    "        f.writelines(log + '\\n' + '\\n')\n",
    "\n",
    "    # Save model weights\n",
    "    if save:\n",
    "        state = {\n",
    "            'epoch': epoch + 1,\n",
    "            'embedding_dimension': config['embedding_dim'],\n",
    "            'batch_size_training': config['train_batch_size'],\n",
    "            'model_state_dict': model.state_dict(),\n",
    "            'model_architecture': config['model'],\n",
    "            'optimizer_model_state_dict': optimizer_model.state_dict()\n",
    "        }\n",
    "        #\n",
    "        if flag_train_multi_gpu:\n",
    "            state['model_state_dict'] = model.module.state_dict()\n",
    "        # For storing best euclidean distance threshold during LFW validation\n",
    "        # if flag_validate_lfw:\n",
    "        # state['best_distance_threshold'] = np.mean(best_distances)\n",
    "        #\n",
    "        torch.save(state, 'Model_training_checkpoints/model_{}_triplet_epoch_{}_rocNotMasked{:.3f}_rocMasked{:.3f}notmaskV9.pt'.format(config['model'],\n",
    "                                                                                                     epoch + 1,\n",
    "                                                                                                     roc_auc, roc_auc_mask))\n",
    "\n",
    "# Training loop end\n",
    "total_time_end = time.time()\n",
    "total_time_elapsed = total_time_end - total_time_start\n",
    "print(\"\\nTraining finished: total time elapsed: {:.2f} hours.\".format(total_time_elapsed / 3600))\n"
   ]
  },
  {
   "cell_type": "code",
   "execution_count": null,
   "id": "5f2658df",
   "metadata": {},
   "outputs": [],
   "source": []
  }
 ],
 "metadata": {
  "kernelspec": {
   "display_name": "Python 3 (ipykernel)",
   "language": "python",
   "name": "python3"
  },
  "language_info": {
   "codemirror_mode": {
    "name": "ipython",
    "version": 3
   },
   "file_extension": ".py",
   "mimetype": "text/x-python",
   "name": "python",
   "nbconvert_exporter": "python",
   "pygments_lexer": "ipython3",
   "version": "3.9.7"
  }
 },
 "nbformat": 4,
 "nbformat_minor": 5
}
